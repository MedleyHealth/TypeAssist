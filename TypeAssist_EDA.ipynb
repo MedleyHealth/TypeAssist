{
  "nbformat": 4,
  "nbformat_minor": 0,
  "metadata": {
    "colab": {
      "name": "TypeAssist-EDA.ipynb",
      "provenance": [],
      "private_outputs": true,
      "collapsed_sections": [],
      "authorship_tag": "ABX9TyMPZY2a9GSmkefZlE+mC0Ft",
      "include_colab_link": true
    },
    "kernelspec": {
      "name": "python3",
      "display_name": "Python 3"
    }
  },
  "cells": [
    {
      "cell_type": "markdown",
      "metadata": {
        "id": "view-in-github",
        "colab_type": "text"
      },
      "source": [
        "<a href=\"https://colab.research.google.com/github/MedleyHealth/TypeAssist/blob/master/TypeAssist_EDA.ipynb\" target=\"_parent\"><img src=\"https://colab.research.google.com/assets/colab-badge.svg\" alt=\"Open In Colab\"/></a>"
      ]
    },
    {
      "cell_type": "markdown",
      "metadata": {
        "id": "TAM5EkZBEPLn",
        "colab_type": "text"
      },
      "source": [
        "# **Important: Do not save the output from code cells in this notebook to Github (or any other public location). Access to the dataset is restricted and we cannot leak any information about individual samples. If you have any doubts about what this means, message me first before committing.**"
      ]
    },
    {
      "cell_type": "markdown",
      "metadata": {
        "id": "KuF55MfIL-9E",
        "colab_type": "text"
      },
      "source": [
        "# Data Loading"
      ]
    },
    {
      "cell_type": "markdown",
      "metadata": {
        "id": "7KbNdNOUGJYH",
        "colab_type": "text"
      },
      "source": [
        "### Import libraries"
      ]
    },
    {
      "cell_type": "code",
      "metadata": {
        "id": "dOejHYgt_0U7",
        "colab_type": "code",
        "colab": {}
      },
      "source": [
        "import numpy as np\n",
        "import pandas as pd\n",
        "import matplotlib.pyplot as plt"
      ],
      "execution_count": null,
      "outputs": []
    },
    {
      "cell_type": "markdown",
      "metadata": {
        "id": "qENyy6dYGNdj",
        "colab_type": "text"
      },
      "source": [
        "### Mount Google Drive where dataset is saved"
      ]
    },
    {
      "cell_type": "code",
      "metadata": {
        "id": "Q5G_v6QLT8k3",
        "colab_type": "code",
        "colab": {}
      },
      "source": [
        "from google.colab import drive\n",
        "drive.mount('/content/drive')"
      ],
      "execution_count": null,
      "outputs": []
    },
    {
      "cell_type": "markdown",
      "metadata": {
        "id": "bE2lx891GRsV",
        "colab_type": "text"
      },
      "source": [
        "### Load dataset from path in Google Drive (change path to your location)"
      ]
    },
    {
      "cell_type": "code",
      "metadata": {
        "id": "5cj9Bgc3T-fV",
        "colab_type": "code",
        "colab": {}
      },
      "source": [
        "path = '/content/drive/My Drive/4 Archive/MIMIC/NOTEEVENTS.csv'\n",
        "\n",
        "df = pd.read_csv(path)\n",
        "df[:5]"
      ],
      "execution_count": null,
      "outputs": []
    },
    {
      "cell_type": "markdown",
      "metadata": {
        "id": "kjtS38MftLmL",
        "colab_type": "text"
      },
      "source": [
        "# Exploratory Data Analysis"
      ]
    },
    {
      "cell_type": "markdown",
      "metadata": {
        "id": "BPCCYI0MHN4W",
        "colab_type": "text"
      },
      "source": [
        "### Check the shape of the data"
      ]
    },
    {
      "cell_type": "code",
      "metadata": {
        "id": "9pmmRfir2AnS",
        "colab_type": "code",
        "colab": {}
      },
      "source": [
        "print('Number of Notes    ', df.shape[0])\n",
        "print('Number of Columns  ', df.shape[1])"
      ],
      "execution_count": null,
      "outputs": []
    },
    {
      "cell_type": "markdown",
      "metadata": {
        "id": "_AqcQj9VHSA5",
        "colab_type": "text"
      },
      "source": [
        "### See how many null values are in each column"
      ]
    },
    {
      "cell_type": "code",
      "metadata": {
        "id": "tVnvMUwq2qde",
        "colab_type": "code",
        "colab": {}
      },
      "source": [
        "df.isnull().sum()"
      ],
      "execution_count": null,
      "outputs": []
    },
    {
      "cell_type": "markdown",
      "metadata": {
        "id": "Y_QMXA7iHWbD",
        "colab_type": "text"
      },
      "source": [
        "### Explore the distribution of values in a column"
      ]
    },
    {
      "cell_type": "code",
      "metadata": {
        "id": "ynlVSGwEuf7s",
        "colab_type": "code",
        "colab": {}
      },
      "source": [
        "def examine_col_values(col_name):\n",
        "  values, counts = np.unique(df[col_name], return_counts=True)\n",
        "\n",
        "  print('Number of Values:', len(values))\n",
        "\n",
        "  # Find the maximum length to format columns properly\n",
        "  max_length = max([len(str(value)) for value in values])\n",
        "  print('Max Length:', max_length, '\\n\\n')\n",
        "\n",
        "  # Sort the counts and values from most common to least common\n",
        "  count_sort_ind = np.argsort(-counts)\n",
        "  values_sort = values[count_sort_ind]\n",
        "  counts_sort = counts[count_sort_ind]\n",
        "\n",
        "  for i, (value, count) in enumerate(zip(values_sort, counts_sort)):\n",
        "    if i == 0:\n",
        "      print('%-{}s %s\\n'.format(max_length+10) % (col_name, 'COUNT'))\n",
        "    \n",
        "    if i > 20:\n",
        "      print('\\n*** RESULTS TRUNCATED FOR BREVITY ***')\n",
        "      return\n",
        "\n",
        "    print('%-{}s %s'.format(max_length+10) % (value, count))"
      ],
      "execution_count": null,
      "outputs": []
    },
    {
      "cell_type": "markdown",
      "metadata": {
        "id": "CWEynmAmHeZq",
        "colab_type": "text"
      },
      "source": [
        "### CATEGORY column refers to the type of note"
      ]
    },
    {
      "cell_type": "code",
      "metadata": {
        "id": "dPtu8gYCqyOR",
        "colab_type": "code",
        "colab": {}
      },
      "source": [
        "examine_col_values('CATEGORY')"
      ],
      "execution_count": null,
      "outputs": []
    },
    {
      "cell_type": "markdown",
      "metadata": {
        "id": "nbC9hJkPHhxq",
        "colab_type": "text"
      },
      "source": [
        "### DESCRIPTION column refers to a finer type of note"
      ]
    },
    {
      "cell_type": "code",
      "metadata": {
        "id": "VcUfoIB0r0Ea",
        "colab_type": "code",
        "colab": {}
      },
      "source": [
        "examine_col_values('DESCRIPTION')"
      ],
      "execution_count": null,
      "outputs": []
    },
    {
      "cell_type": "markdown",
      "metadata": {
        "id": "WFQV8fMSHpi5",
        "colab_type": "text"
      },
      "source": [
        "### SUBJECT_ID column refers to a specific patient"
      ]
    },
    {
      "cell_type": "code",
      "metadata": {
        "id": "GKKqmQXItTLq",
        "colab_type": "code",
        "colab": {}
      },
      "source": [
        "examine_col_values('SUBJECT_ID')"
      ],
      "execution_count": null,
      "outputs": []
    },
    {
      "cell_type": "markdown",
      "metadata": {
        "id": "JVMcpbBqHuiO",
        "colab_type": "text"
      },
      "source": [
        "### HADM_ID refers to a specific hospital admission"
      ]
    },
    {
      "cell_type": "code",
      "metadata": {
        "id": "-SVyVoNFvPtK",
        "colab_type": "code",
        "colab": {}
      },
      "source": [
        "examine_col_values('HADM_ID')"
      ],
      "execution_count": null,
      "outputs": []
    },
    {
      "cell_type": "markdown",
      "metadata": {
        "id": "yXjrS3-3H3iF",
        "colab_type": "text"
      },
      "source": [
        "### Change \"i = ...\" several times to see what actual notes look like"
      ]
    },
    {
      "cell_type": "code",
      "metadata": {
        "id": "kwCYAaE9ygex",
        "colab_type": "code",
        "colab": {}
      },
      "source": [
        "i = 0\n",
        "\n",
        "print('CATEGORY:', df.iloc[i]['CATEGORY'], '\\n\\n')\n",
        "print(df.iloc[i]['TEXT'])"
      ],
      "execution_count": null,
      "outputs": []
    },
    {
      "cell_type": "markdown",
      "metadata": {
        "id": "QWPTmRIwIE6T",
        "colab_type": "text"
      },
      "source": [
        "### Calculate the number of characters across all notes"
      ]
    },
    {
      "cell_type": "code",
      "metadata": {
        "id": "svO6S9gd5xhq",
        "colab_type": "code",
        "colab": {}
      },
      "source": [
        "note_lengths = [len(note) for note in df['TEXT']]"
      ],
      "execution_count": null,
      "outputs": []
    },
    {
      "cell_type": "markdown",
      "metadata": {
        "id": "kfCOvAq9IK0E",
        "colab_type": "text"
      },
      "source": [
        "### Plot the entire distribution of note lengths"
      ]
    },
    {
      "cell_type": "code",
      "metadata": {
        "id": "_63SJ5Da77au",
        "colab_type": "code",
        "colab": {}
      },
      "source": [
        "plt.hist(note_lengths, density=False, bins=1000)\n",
        "plt.ylabel('Count')\n",
        "plt.xlabel('Note Length')"
      ],
      "execution_count": null,
      "outputs": []
    },
    {
      "cell_type": "markdown",
      "metadata": {
        "id": "b7mue0_xIOPd",
        "colab_type": "text"
      },
      "source": [
        "### Zoom into the area with a higher concentration of notes (ignore the long tail)"
      ]
    },
    {
      "cell_type": "code",
      "metadata": {
        "id": "sBjFyWwk78vH",
        "colab_type": "code",
        "colab": {}
      },
      "source": [
        "plt.hist(note_lengths, density=False, bins=10000)\n",
        "plt.ylabel('Count')\n",
        "plt.xlabel('Note Length')\n",
        "plt.xlim((-3000, 12000))\n",
        "plt.ylim(0, 12000)"
      ],
      "execution_count": null,
      "outputs": []
    },
    {
      "cell_type": "markdown",
      "metadata": {
        "id": "-ZyA5-kIIbyl",
        "colab_type": "text"
      },
      "source": [
        "### Zoom into the area of notes with less than 100 characters (for quick model training)"
      ]
    },
    {
      "cell_type": "code",
      "metadata": {
        "id": "n4LmIkyZBZ2j",
        "colab_type": "code",
        "colab": {}
      },
      "source": [
        "plt.hist(note_lengths, density=False, bins=10000)\n",
        "plt.ylabel('Count')\n",
        "plt.xlabel('Note Length')\n",
        "plt.xlim((-10, 110))\n",
        "plt.ylim(0, 12000)"
      ],
      "execution_count": null,
      "outputs": []
    },
    {
      "cell_type": "markdown",
      "metadata": {
        "id": "Xc0qXrtlIlg2",
        "colab_type": "text"
      },
      "source": [
        "### Get a list of all unique characters for data preprocessing (we want to remove special characters)"
      ]
    },
    {
      "cell_type": "code",
      "metadata": {
        "id": "aDy3L1Z_8xPV",
        "colab_type": "code",
        "colab": {}
      },
      "source": [
        "note_chars = [set(text) for text in df['TEXT']]\n",
        "\n",
        "unique_chars = set([char_set for note in note_chars for char_set in note])\n",
        "\n",
        "unique_chars"
      ],
      "execution_count": null,
      "outputs": []
    }
  ]
}