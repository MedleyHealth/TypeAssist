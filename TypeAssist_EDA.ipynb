{
  "nbformat": 4,
  "nbformat_minor": 0,
  "metadata": {
    "colab": {
      "name": "TypeAssist-EDA.ipynb",
      "provenance": [],
      "collapsed_sections": [],
      "authorship_tag": "ABX9TyMUHgvyp5G5pNWreUEUIEd0",
      "include_colab_link": true
    },
    "kernelspec": {
      "name": "python3",
      "display_name": "Python 3"
    }
  },
  "cells": [
    {
      "cell_type": "markdown",
      "metadata": {
        "id": "view-in-github",
        "colab_type": "text"
      },
      "source": [
        "<a href=\"https://colab.research.google.com/github/MedleyHealth/TypeAssist/blob/master/TypeAssist_EDA.ipynb\" target=\"_parent\"><img src=\"https://colab.research.google.com/assets/colab-badge.svg\" alt=\"Open In Colab\"/></a>"
      ]
    },
    {
      "cell_type": "markdown",
      "metadata": {
        "id": "TAM5EkZBEPLn",
        "colab_type": "text"
      },
      "source": [
        "# **Important: Do not save this notebook to Github with any information about the dataset. Access to the dataset is restricted and we cannot leak any information about individual samples.**"
      ]
    },
    {
      "cell_type": "code",
      "metadata": {
        "id": "dOejHYgt_0U7",
        "colab_type": "code",
        "colab": {}
      },
      "source": [
        "import numpy as np\n",
        "import pandas as pd\n",
        "import matplotlib.pyplot as plt"
      ],
      "execution_count": 1,
      "outputs": []
    },
    {
      "cell_type": "code",
      "metadata": {
        "id": "Q5G_v6QLT8k3",
        "colab_type": "code",
        "colab": {}
      },
      "source": [
        "from google.colab import drive\n",
        "drive.mount('/content/drive')"
      ],
      "execution_count": 2,
      "outputs": []
    },
    {
      "cell_type": "code",
      "metadata": {
        "id": "5cj9Bgc3T-fV",
        "colab_type": "code",
        "colab": {}
      },
      "source": [
        "path = '/content/drive/My Drive/4 Archive/MIMIC/NOTEEVENTS.csv'\n",
        "\n",
        "df = pd.read_csv(path)\n",
        "df[:5]"
      ],
      "execution_count": 3,
      "outputs": []
    },
    {
      "cell_type": "markdown",
      "metadata": {
        "id": "kjtS38MftLmL",
        "colab_type": "text"
      },
      "source": [
        "# Exploratory Data Analysis"
      ]
    },
    {
      "cell_type": "code",
      "metadata": {
        "id": "9pmmRfir2AnS",
        "colab_type": "code",
        "colab": {}
      },
      "source": [
        "print('Number of Notes    ', df.shape[0])\n",
        "print('Number of Columns  ', df.shape[1])"
      ],
      "execution_count": 4,
      "outputs": []
    },
    {
      "cell_type": "code",
      "metadata": {
        "id": "tVnvMUwq2qde",
        "colab_type": "code",
        "colab": {}
      },
      "source": [
        "# See how many null values in each column\n",
        "\n",
        "df.isnull().sum()"
      ],
      "execution_count": 5,
      "outputs": []
    },
    {
      "cell_type": "code",
      "metadata": {
        "id": "ynlVSGwEuf7s",
        "colab_type": "code",
        "colab": {}
      },
      "source": [
        "def examine_col_values(col_name):\n",
        "  values, counts = np.unique(df[col_name], return_counts=True)\n",
        "\n",
        "  print('Number of Values:', len(values))\n",
        "\n",
        "  # Find the maximum length to format columns properly\n",
        "  max_length = max([len(str(value)) for value in values])\n",
        "  print('Max Length:', max_length, '\\n\\n')\n",
        "\n",
        "  # Sort the counts and values from most common to least common\n",
        "  count_sort_ind = np.argsort(-counts)\n",
        "  values_sort = values[count_sort_ind]\n",
        "  counts_sort = counts[count_sort_ind]\n",
        "\n",
        "  for i, (value, count) in enumerate(zip(values_sort, counts_sort)):\n",
        "    if i == 0:\n",
        "      print('%-{}s %s\\n'.format(max_length+10) % (col_name, 'COUNT'))\n",
        "    \n",
        "    if i > 20:\n",
        "      print('\\n*** RESULTS TRUNCATED FOR BREVITY ***')\n",
        "      return\n",
        "\n",
        "    print('%-{}s %s'.format(max_length+10) % (value, count))"
      ],
      "execution_count": null,
      "outputs": []
    },
    {
      "cell_type": "code",
      "metadata": {
        "id": "dPtu8gYCqyOR",
        "colab_type": "code",
        "colab": {}
      },
      "source": [
        "examine_col_values('CATEGORY')"
      ],
      "execution_count": 6,
      "outputs": []
    },
    {
      "cell_type": "code",
      "metadata": {
        "id": "VcUfoIB0r0Ea",
        "colab_type": "code",
        "colab": {}
      },
      "source": [
        "examine_col_values('DESCRIPTION')"
      ],
      "execution_count": 7,
      "outputs": []
    },
    {
      "cell_type": "code",
      "metadata": {
        "id": "GKKqmQXItTLq",
        "colab_type": "code",
        "colab": {}
      },
      "source": [
        "examine_col_values('SUBJECT_ID')"
      ],
      "execution_count": 8,
      "outputs": []
    },
    {
      "cell_type": "code",
      "metadata": {
        "id": "-SVyVoNFvPtK",
        "colab_type": "code",
        "colab": {}
      },
      "source": [
        "examine_col_values('HADM_ID')"
      ],
      "execution_count": 9,
      "outputs": []
    },
    {
      "cell_type": "code",
      "metadata": {
        "id": "kwCYAaE9ygex",
        "colab_type": "code",
        "colab": {}
      },
      "source": [
        "i = 3\n",
        "\n",
        "print('CATEGORY:', df.iloc[i]['CATEGORY'], '\\n\\n')\n",
        "print(df.iloc[i]['TEXT'])"
      ],
      "execution_count": 10,
      "outputs": []
    },
    {
      "cell_type": "code",
      "metadata": {
        "id": "svO6S9gd5xhq",
        "colab_type": "code",
        "colab": {}
      },
      "source": [
        "note_lengths = [len(note) for note in df['TEXT']]"
      ],
      "execution_count": null,
      "outputs": []
    },
    {
      "cell_type": "code",
      "metadata": {
        "id": "_63SJ5Da77au",
        "colab_type": "code",
        "colab": {}
      },
      "source": [
        "plt.hist(note_lengths, density=False, bins=1000)\n",
        "plt.ylabel('Count')\n",
        "plt.xlabel('Note Length')"
      ],
      "execution_count": 11,
      "outputs": []
    },
    {
      "cell_type": "code",
      "metadata": {
        "id": "sBjFyWwk78vH",
        "colab_type": "code",
        "colab": {}
      },
      "source": [
        "plt.hist(note_lengths, density=False, bins=10000)\n",
        "plt.ylabel('Count')\n",
        "plt.xlabel('Note Length')\n",
        "plt.xlim((-5000, 15000))\n",
        "plt.ylim(0, 12000)"
      ],
      "execution_count": 12,
      "outputs": []
    },
    {
      "cell_type": "code",
      "metadata": {
        "id": "n4LmIkyZBZ2j",
        "colab_type": "code",
        "colab": {}
      },
      "source": [
        "plt.hist(note_lengths, density=False, bins=10000)\n",
        "plt.ylabel('Count')\n",
        "plt.xlabel('Note Length')\n",
        "plt.xlim((-10, 110))\n",
        "plt.ylim(0, 12000)"
      ],
      "execution_count": 13,
      "outputs": []
    },
    {
      "cell_type": "code",
      "metadata": {
        "id": "aDy3L1Z_8xPV",
        "colab_type": "code",
        "colab": {}
      },
      "source": [
        "note_chars = [set(text) for text in df['TEXT']]\n",
        "\n",
        "unique_chars = set([char_set for note in note_chars for char_set in note])\n",
        "\n",
        "unique_chars"
      ],
      "execution_count": 14,
      "outputs": []
    }
  ]
}